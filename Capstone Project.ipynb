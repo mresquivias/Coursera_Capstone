{
 "cells": [
  {
   "cell_type": "markdown",
   "metadata": {},
   "source": [
    "# Capstone Project"
   ]
  },
  {
   "cell_type": "markdown",
   "metadata": {},
   "source": [
    "## Problem definition"
   ]
  },
  {
   "cell_type": "markdown",
   "metadata": {},
   "source": [
    "I'm gonna compare the neighborhoods of Madrid and Toronto so to find out the similarities and disimilarities of and European city and an American one.\n",
    "\n",
    "It will be helpful for people who wants to travel abroad but are afraid of the change so they can move to cities that are not that differente from their hometown.\n",
    "\n",
    "I hope to find out that they are very similar than it would be if I compare an eastern city with a western one."
   ]
  },
  {
   "cell_type": "markdown",
   "metadata": {},
   "source": [
    "## Data description"
   ]
  },
  {
   "cell_type": "markdown",
   "metadata": {},
   "source": [
    "So first I need coordinates of each city and its neighborhoods; and once I got it I'm gonna use it to leverage data from Foursquare to be able to describe the neighborhoods. \n",
    "Foursquare data consits in location data with info about venues, trendings etc that will be combined with data about the neighborhoods of the cities to be able to separate them into clusters to see which neighborhoods are similar. "
   ]
  },
  {
   "cell_type": "code",
   "execution_count": null,
   "metadata": {},
   "outputs": [],
   "source": []
  }
 ],
 "metadata": {
  "kernelspec": {
   "display_name": "Python 3",
   "language": "python",
   "name": "python3"
  },
  "language_info": {
   "codemirror_mode": {
    "name": "ipython",
    "version": 3
   },
   "file_extension": ".py",
   "mimetype": "text/x-python",
   "name": "python",
   "nbconvert_exporter": "python",
   "pygments_lexer": "ipython3",
   "version": "3.6.5"
  }
 },
 "nbformat": 4,
 "nbformat_minor": 2
}
